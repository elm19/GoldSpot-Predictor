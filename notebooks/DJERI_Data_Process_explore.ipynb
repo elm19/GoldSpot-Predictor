{
 "cells": [
  {
   "cell_type": "code",
   "execution_count": 1,
   "id": "cf59e05e",
   "metadata": {},
   "outputs": [],
   "source": [
    "import pandas as pd\n",
    "import numpy as np"
   ]
  },
  {
   "cell_type": "code",
   "execution_count": 4,
   "id": "fa24f85f",
   "metadata": {},
   "outputs": [],
   "source": [
    "all_data_merge_price_indicator_economic = pd.read_csv('https://raw.githubusercontent.com/elm19/GoldSpot-Predictor/refs/heads/main/data/processed-data/meged_data_all.csv', index_col='Date')\n",
    "all_data_merge_price_indicator = pd.read_csv('https://raw.githubusercontent.com/elm19/GoldSpot-Predictor/refs/heads/main/data/processed-data/meged_data_price_indicator.csv', index_col='Date')\n",
    "all_data_merge_price_economic = pd.read_csv('https://raw.githubusercontent.com/elm19/GoldSpot-Predictor/refs/heads/main/data/processed-data/meged_data_price_callender.csv', index_col='Date')\n"
   ]
  },
  {
   "cell_type": "code",
   "execution_count": 5,
   "id": "88333dfe",
   "metadata": {},
   "outputs": [
    {
     "name": "stdout",
     "output_type": "stream",
     "text": [
      "<class 'pandas.core.frame.DataFrame'>\n",
      "Index: 1796 entries, 2019-01-01 to 2023-12-01\n",
      "Columns: 499 entries, Close to Event_Winter Economy Plan\n",
      "dtypes: float64(498), object(1)\n",
      "memory usage: 6.9+ MB\n"
     ]
    }
   ],
   "source": [
    "all_data_merge_price_indicator_economic.info()"
   ]
  },
  {
   "cell_type": "code",
   "execution_count": null,
   "id": "94c99205",
   "metadata": {},
   "outputs": [],
   "source": []
  }
 ],
 "metadata": {
  "kernelspec": {
   "display_name": "Python 3",
   "language": "python",
   "name": "python3"
  },
  "language_info": {
   "codemirror_mode": {
    "name": "ipython",
    "version": 3
   },
   "file_extension": ".py",
   "mimetype": "text/x-python",
   "name": "python",
   "nbconvert_exporter": "python",
   "pygments_lexer": "ipython3",
   "version": "3.13.2"
  }
 },
 "nbformat": 4,
 "nbformat_minor": 5
}
