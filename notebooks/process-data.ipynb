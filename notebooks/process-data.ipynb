{
 "cells": [
  {
   "cell_type": "code",
   "execution_count": 3,
   "metadata": {},
   "outputs": [],
   "source": [
    "import numpy as np\n",
    "import pandas as pd"
   ]
  },
  {
   "cell_type": "code",
   "execution_count": 4,
   "metadata": {},
   "outputs": [
    {
     "data": {
      "text/html": [
       "<div>\n",
       "<style scoped>\n",
       "    .dataframe tbody tr th:only-of-type {\n",
       "        vertical-align: middle;\n",
       "    }\n",
       "\n",
       "    .dataframe tbody tr th {\n",
       "        vertical-align: top;\n",
       "    }\n",
       "\n",
       "    .dataframe thead th {\n",
       "        text-align: right;\n",
       "    }\n",
       "</style>\n",
       "<table border=\"1\" class=\"dataframe\">\n",
       "  <thead>\n",
       "    <tr style=\"text-align: right;\">\n",
       "      <th></th>\n",
       "      <th>Date</th>\n",
       "      <th>Price</th>\n",
       "      <th>Open</th>\n",
       "      <th>High</th>\n",
       "      <th>Low</th>\n",
       "      <th>Vol.</th>\n",
       "      <th>Change %</th>\n",
       "    </tr>\n",
       "  </thead>\n",
       "  <tbody>\n",
       "    <tr>\n",
       "      <th>0</th>\n",
       "      <td>01/12/2024</td>\n",
       "      <td>2,051.60</td>\n",
       "      <td>2,033.20</td>\n",
       "      <td>2,067.30</td>\n",
       "      <td>2,033.10</td>\n",
       "      <td>272.35K</td>\n",
       "      <td>1.60%</td>\n",
       "    </tr>\n",
       "    <tr>\n",
       "      <th>1</th>\n",
       "      <td>01/11/2024</td>\n",
       "      <td>2,019.20</td>\n",
       "      <td>2,029.40</td>\n",
       "      <td>2,056.10</td>\n",
       "      <td>2,017.30</td>\n",
       "      <td>301.34K</td>\n",
       "      <td>-0.42%</td>\n",
       "    </tr>\n",
       "    <tr>\n",
       "      <th>2</th>\n",
       "      <td>01/10/2024</td>\n",
       "      <td>2,027.80</td>\n",
       "      <td>2,036.00</td>\n",
       "      <td>2,046.20</td>\n",
       "      <td>2,025.90</td>\n",
       "      <td>205.01K</td>\n",
       "      <td>-0.26%</td>\n",
       "    </tr>\n",
       "    <tr>\n",
       "      <th>3</th>\n",
       "      <td>01/09/2024</td>\n",
       "      <td>2,033.00</td>\n",
       "      <td>2,034.50</td>\n",
       "      <td>2,048.60</td>\n",
       "      <td>2,031.90</td>\n",
       "      <td>218.75K</td>\n",
       "      <td>-0.02%</td>\n",
       "    </tr>\n",
       "    <tr>\n",
       "      <th>4</th>\n",
       "      <td>01/08/2024</td>\n",
       "      <td>2,033.50</td>\n",
       "      <td>2,052.60</td>\n",
       "      <td>2,053.30</td>\n",
       "      <td>2,022.70</td>\n",
       "      <td>220.99K</td>\n",
       "      <td>-0.80%</td>\n",
       "    </tr>\n",
       "  </tbody>\n",
       "</table>\n",
       "</div>"
      ],
      "text/plain": [
       "         Date     Price      Open      High       Low     Vol. Change %\n",
       "0  01/12/2024  2,051.60  2,033.20  2,067.30  2,033.10  272.35K    1.60%\n",
       "1  01/11/2024  2,019.20  2,029.40  2,056.10  2,017.30  301.34K   -0.42%\n",
       "2  01/10/2024  2,027.80  2,036.00  2,046.20  2,025.90  205.01K   -0.26%\n",
       "3  01/09/2024  2,033.00  2,034.50  2,048.60  2,031.90  218.75K   -0.02%\n",
       "4  01/08/2024  2,033.50  2,052.60  2,053.30  2,022.70  220.99K   -0.80%"
      ]
     },
     "execution_count": 4,
     "metadata": {},
     "output_type": "execute_result"
    }
   ],
   "source": [
    "raw_data = pd.read_csv(\"../data/raw-data/prices-2015-2023.csv\")\n",
    "raw_data.head()"
   ]
  },
  {
   "cell_type": "markdown",
   "metadata": {},
   "source": [
    "The numbers in this data are not good: we need to get rid of ',' and 'k' and then convert them from strings to float type \n",
    "\n",
    "we will write a function that does that"
   ]
  },
  {
   "cell_type": "code",
   "execution_count": null,
   "metadata": {},
   "outputs": [],
   "source": []
  },
  {
   "cell_type": "code",
   "execution_count": null,
   "metadata": {},
   "outputs": [],
   "source": []
  }
 ],
 "metadata": {
  "kernelspec": {
   "display_name": "goldspot-predictor-env",
   "language": "python",
   "name": "python3"
  },
  "language_info": {
   "codemirror_mode": {
    "name": "ipython",
    "version": 3
   },
   "file_extension": ".py",
   "mimetype": "text/x-python",
   "name": "python",
   "nbconvert_exporter": "python",
   "pygments_lexer": "ipython3",
   "version": "3.13.2"
  }
 },
 "nbformat": 4,
 "nbformat_minor": 2
}
